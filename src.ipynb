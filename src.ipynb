{
 "cells": [
  {
   "cell_type": "code",
   "execution_count": 1,
   "metadata": {},
   "outputs": [
    {
     "name": "stdout",
     "output_type": "stream",
     "text": [
      "Parameters: {'min_samples_split': 3, 'max_depth': 2, 'seed': 2}, Accuracy: 0.6591666666666667\n",
      "Parameters: {'min_samples_split': 3, 'max_depth': 2, 'seed': 3}, Accuracy: 0.6766666666666667\n",
      "Parameters: {'min_samples_split': 3, 'max_depth': 3, 'seed': 2}, Accuracy: 0.7633333333333334\n",
      "Parameters: {'min_samples_split': 3, 'max_depth': 3, 'seed': 3}, Accuracy: 0.7475\n",
      "Parameters: {'min_samples_split': 3, 'max_depth': 4, 'seed': 2}, Accuracy: 0.735\n",
      "Parameters: {'min_samples_split': 3, 'max_depth': 4, 'seed': 3}, Accuracy: 0.7541666666666668\n",
      "Parameters: {'min_samples_split': 3, 'max_depth': None, 'seed': 2}, Accuracy: 0.7416666666666667\n",
      "Parameters: {'min_samples_split': 3, 'max_depth': None, 'seed': 3}, Accuracy: 0.7641666666666667\n",
      "Parameters: {'min_samples_split': 4, 'max_depth': 2, 'seed': 2}, Accuracy: 0.6691666666666666\n",
      "Parameters: {'min_samples_split': 4, 'max_depth': 2, 'seed': 3}, Accuracy: 0.6925\n",
      "Parameters: {'min_samples_split': 4, 'max_depth': 3, 'seed': 2}, Accuracy: 0.7633333333333334\n",
      "Parameters: {'min_samples_split': 4, 'max_depth': 3, 'seed': 3}, Accuracy: 0.745\n",
      "Parameters: {'min_samples_split': 4, 'max_depth': 4, 'seed': 2}, Accuracy: 0.7375\n",
      "Parameters: {'min_samples_split': 4, 'max_depth': 4, 'seed': 3}, Accuracy: 0.7241666666666666\n",
      "Parameters: {'min_samples_split': 4, 'max_depth': None, 'seed': 2}, Accuracy: 0.7191666666666666\n",
      "Parameters: {'min_samples_split': 4, 'max_depth': None, 'seed': 3}, Accuracy: 0.7650000000000001\n",
      "Parameters: {'min_samples_split': 5, 'max_depth': 2, 'seed': 2}, Accuracy: 0.68\n",
      "Parameters: {'min_samples_split': 5, 'max_depth': 2, 'seed': 3}, Accuracy: 0.6775\n",
      "Parameters: {'min_samples_split': 5, 'max_depth': 3, 'seed': 2}, Accuracy: 0.7316666666666667\n",
      "Parameters: {'min_samples_split': 5, 'max_depth': 3, 'seed': 3}, Accuracy: 0.7516666666666667\n",
      "Parameters: {'min_samples_split': 5, 'max_depth': 4, 'seed': 2}, Accuracy: 0.7516666666666667\n",
      "Parameters: {'min_samples_split': 5, 'max_depth': 4, 'seed': 3}, Accuracy: 0.7483333333333333\n",
      "Parameters: {'min_samples_split': 5, 'max_depth': None, 'seed': 2}, Accuracy: 0.7300000000000001\n",
      "Parameters: {'min_samples_split': 5, 'max_depth': None, 'seed': 3}, Accuracy: 0.7533333333333333\n",
      "Best hyperparameters:\n",
      "{'min_samples_split': 4, 'max_depth': None, 'seed': 3}, Accuracy: 0.7650000000000001\n",
      "Tempo de execução: 17.62 s\n"
     ]
    }
   ],
   "source": [
    "from data.dataset_handler import DatasetHandler\n",
    "\n",
    "handler = DatasetHandler()\n",
    "\n",
    "df = handler.ler_dataset(\"data/treino_sinais_vitais_com_label.csv\")\n",
    "df = handler.remover_colunas(df, [\"s1\",\"s2\", \"gravidade\", \"vitima\"])\n",
    "X,y = handler.extrair_features_target(df,\"classe\")\n",
    "\n",
    "X = handler.discretizar_coluna(X, \"s3\", q=5)\n",
    "X = handler.discretizar_coluna(X, \"s4\", q=5)\n",
    "X = handler.discretizar_coluna(X, \"s5\", q=5)\n",
    "\n",
    "from decision_tree import decision_tree\n",
    "from decision_tree.decision_tree import TreeNode\n",
    "\n",
    "#Defining hyperparameters\n",
    "param_grid = {'min_samples_split': [3,4,5], 'max_depth': [2,3,4,None], \n",
    "              'seed': [2,3]}\n",
    "\n",
    "#Initialization of the model\n",
    "tree = TreeNode(verbose=False)\n",
    "\n",
    "#Cross validation to find the best hyperparameters\n",
    "decision_tree.crossvalidation(X, y, tree, 5, param_grid, seed=12)\n"
   ]
  },
  {
   "cell_type": "code",
   "execution_count": 2,
   "metadata": {},
   "outputs": [
    {
     "name": "stdout",
     "output_type": "stream",
     "text": [
      "Parameters: {'min_samples_split': 3, 'max_depth': 2, 'seed': 2}, Accuracy: 0.6166666666666667\n",
      "Parameters: {'min_samples_split': 3, 'max_depth': 2, 'seed': 3}, Accuracy: 0.6625000000000001\n",
      "Parameters: {'min_samples_split': 3, 'max_depth': 3, 'seed': 2}, Accuracy: 0.6633333333333333\n",
      "Parameters: {'min_samples_split': 3, 'max_depth': 3, 'seed': 3}, Accuracy: 0.695\n",
      "Parameters: {'min_samples_split': 3, 'max_depth': 4, 'seed': 2}, Accuracy: 0.7808333333333333\n",
      "Parameters: {'min_samples_split': 3, 'max_depth': 4, 'seed': 3}, Accuracy: 0.7083333333333334\n",
      "Parameters: {'min_samples_split': 3, 'max_depth': None, 'seed': 2}, Accuracy: 0.8966666666666666\n",
      "Parameters: {'min_samples_split': 3, 'max_depth': None, 'seed': 3}, Accuracy: 0.8541666666666666\n",
      "Parameters: {'min_samples_split': 4, 'max_depth': 2, 'seed': 2}, Accuracy: 0.6408333333333333\n",
      "Parameters: {'min_samples_split': 4, 'max_depth': 2, 'seed': 3}, Accuracy: 0.6583333333333333\n",
      "Parameters: {'min_samples_split': 4, 'max_depth': 3, 'seed': 2}, Accuracy: 0.6983333333333334\n",
      "Parameters: {'min_samples_split': 4, 'max_depth': 3, 'seed': 3}, Accuracy: 0.715\n",
      "Parameters: {'min_samples_split': 4, 'max_depth': 4, 'seed': 2}, Accuracy: 0.75\n",
      "Parameters: {'min_samples_split': 4, 'max_depth': 4, 'seed': 3}, Accuracy: 0.7658333333333333\n",
      "Parameters: {'min_samples_split': 4, 'max_depth': None, 'seed': 2}, Accuracy: 0.8841666666666668\n",
      "Parameters: {'min_samples_split': 4, 'max_depth': None, 'seed': 3}, Accuracy: 0.8833333333333333\n",
      "Parameters: {'min_samples_split': 5, 'max_depth': 2, 'seed': 2}, Accuracy: 0.6216666666666667\n",
      "Parameters: {'min_samples_split': 5, 'max_depth': 2, 'seed': 3}, Accuracy: 0.6583333333333333\n",
      "Parameters: {'min_samples_split': 5, 'max_depth': 3, 'seed': 2}, Accuracy: 0.6816666666666666\n",
      "Parameters: {'min_samples_split': 5, 'max_depth': 3, 'seed': 3}, Accuracy: 0.6533333333333333\n",
      "Parameters: {'min_samples_split': 5, 'max_depth': 4, 'seed': 2}, Accuracy: 0.7516666666666667\n",
      "Parameters: {'min_samples_split': 5, 'max_depth': 4, 'seed': 3}, Accuracy: 0.7491666666666668\n",
      "Parameters: {'min_samples_split': 5, 'max_depth': None, 'seed': 2}, Accuracy: 0.8525\n",
      "Parameters: {'min_samples_split': 5, 'max_depth': None, 'seed': 3}, Accuracy: 0.8583333333333333\n",
      "Best hyperparameters:\n",
      "{'min_samples_split': 3, 'max_depth': None, 'seed': 2}, Accuracy: 0.8966666666666666\n",
      "Tempo de execução: 527.26 s\n"
     ]
    }
   ],
   "source": [
    "from data.dataset_handler import DatasetHandler\n",
    "\n",
    "handler = DatasetHandler()\n",
    "\n",
    "df = handler.ler_dataset(\"data/treino_sinais_vitais_com_label.csv\")\n",
    "df = handler.remover_colunas(df, [\"s1\",\"s2\", \"gravidade\", \"vitima\"])\n",
    "X,y = handler.extrair_features_target(df,\"classe\")\n",
    "\n",
    "from decision_tree import decision_tree\n",
    "from decision_tree.decision_tree import TreeNode\n",
    "\n",
    "#Defining hyperparameters\n",
    "param_grid = {'min_samples_split': [3,4,5], 'max_depth': [2,3,4,None], \n",
    "              'seed': [2,3]}\n",
    "\n",
    "#Initialization of the model\n",
    "tree = TreeNode(verbose=False)\n",
    "\n",
    "#Cross validation to find the best hyperparameters\n",
    "decision_tree.crossvalidation(X, y, tree, 5, param_grid, seed=12)\n"
   ]
  },
  {
   "cell_type": "code",
   "execution_count": 1,
   "metadata": {},
   "outputs": [
    {
     "name": "stderr",
     "output_type": "stream",
     "text": [
      "/home/daniel/.local/lib/python3.10/site-packages/sklearn/neural_network/_multilayer_perceptron.py:690: ConvergenceWarning: Stochastic Optimizer: Maximum iterations (100) reached and the optimization hasn't converged yet.\n",
      "  warnings.warn(\n",
      "/home/daniel/.local/lib/python3.10/site-packages/sklearn/neural_network/_multilayer_perceptron.py:690: ConvergenceWarning: Stochastic Optimizer: Maximum iterations (100) reached and the optimization hasn't converged yet.\n",
      "  warnings.warn(\n",
      "/home/daniel/.local/lib/python3.10/site-packages/sklearn/neural_network/_multilayer_perceptron.py:690: ConvergenceWarning: Stochastic Optimizer: Maximum iterations (100) reached and the optimization hasn't converged yet.\n",
      "  warnings.warn(\n"
     ]
    },
    {
     "name": "stdout",
     "output_type": "stream",
     "text": [
      "Parameters: {'activation': 'identity', 'batch_size': 100, 'hidden_layer_sizes': (10, 20, 10), 'max_iter': 100, 'learning_rate_init': 0.001}, Accuracy: 0.5108333333333334\n",
      "Parameters: {'activation': 'identity', 'batch_size': 100, 'hidden_layer_sizes': (10, 20, 10), 'max_iter': 100, 'learning_rate_init': 0.01}, Accuracy: 0.5491666666666666\n",
      "Parameters: {'activation': 'identity', 'batch_size': 100, 'hidden_layer_sizes': (10, 20, 10), 'max_iter': 100, 'learning_rate_init': 0.1}, Accuracy: 0.5458333333333334\n",
      "Parameters: {'activation': 'identity', 'batch_size': 100, 'hidden_layer_sizes': (10, 20, 10), 'max_iter': 150, 'learning_rate_init': 0.001}, Accuracy: 0.5599999999999999\n",
      "Parameters: {'activation': 'identity', 'batch_size': 100, 'hidden_layer_sizes': (10, 20, 10), 'max_iter': 150, 'learning_rate_init': 0.01}, Accuracy: 0.5341666666666667\n",
      "Parameters: {'activation': 'identity', 'batch_size': 100, 'hidden_layer_sizes': (10, 20, 10), 'max_iter': 150, 'learning_rate_init': 0.1}, Accuracy: 0.5599999999999999\n",
      "Parameters: {'activation': 'identity', 'batch_size': 100, 'hidden_layer_sizes': (10, 20, 10), 'max_iter': 200, 'learning_rate_init': 0.001}, Accuracy: 0.5558333333333333\n",
      "Parameters: {'activation': 'identity', 'batch_size': 100, 'hidden_layer_sizes': (10, 20, 10), 'max_iter': 200, 'learning_rate_init': 0.01}, Accuracy: 0.5708333333333333\n",
      "Parameters: {'activation': 'identity', 'batch_size': 100, 'hidden_layer_sizes': (10, 20, 10), 'max_iter': 200, 'learning_rate_init': 0.1}, Accuracy: 0.5566666666666666\n"
     ]
    },
    {
     "name": "stderr",
     "output_type": "stream",
     "text": [
      "/home/daniel/.local/lib/python3.10/site-packages/sklearn/neural_network/_multilayer_perceptron.py:690: ConvergenceWarning: Stochastic Optimizer: Maximum iterations (100) reached and the optimization hasn't converged yet.\n",
      "  warnings.warn(\n",
      "/home/daniel/.local/lib/python3.10/site-packages/sklearn/neural_network/_multilayer_perceptron.py:690: ConvergenceWarning: Stochastic Optimizer: Maximum iterations (100) reached and the optimization hasn't converged yet.\n",
      "  warnings.warn(\n",
      "/home/daniel/.local/lib/python3.10/site-packages/sklearn/neural_network/_multilayer_perceptron.py:690: ConvergenceWarning: Stochastic Optimizer: Maximum iterations (100) reached and the optimization hasn't converged yet.\n",
      "  warnings.warn(\n",
      "/home/daniel/.local/lib/python3.10/site-packages/sklearn/neural_network/_multilayer_perceptron.py:690: ConvergenceWarning: Stochastic Optimizer: Maximum iterations (100) reached and the optimization hasn't converged yet.\n",
      "  warnings.warn(\n"
     ]
    },
    {
     "name": "stdout",
     "output_type": "stream",
     "text": [
      "Parameters: {'activation': 'identity', 'batch_size': 100, 'hidden_layer_sizes': (5, 10, 5), 'max_iter': 100, 'learning_rate_init': 0.001}, Accuracy: 0.4866666666666667\n",
      "Parameters: {'activation': 'identity', 'batch_size': 100, 'hidden_layer_sizes': (5, 10, 5), 'max_iter': 100, 'learning_rate_init': 0.01}, Accuracy: 0.5658333333333333\n",
      "Parameters: {'activation': 'identity', 'batch_size': 100, 'hidden_layer_sizes': (5, 10, 5), 'max_iter': 100, 'learning_rate_init': 0.1}, Accuracy: 0.6083333333333333\n"
     ]
    },
    {
     "name": "stderr",
     "output_type": "stream",
     "text": [
      "/home/daniel/.local/lib/python3.10/site-packages/sklearn/neural_network/_multilayer_perceptron.py:690: ConvergenceWarning: Stochastic Optimizer: Maximum iterations (150) reached and the optimization hasn't converged yet.\n",
      "  warnings.warn(\n",
      "/home/daniel/.local/lib/python3.10/site-packages/sklearn/neural_network/_multilayer_perceptron.py:690: ConvergenceWarning: Stochastic Optimizer: Maximum iterations (150) reached and the optimization hasn't converged yet.\n",
      "  warnings.warn(\n",
      "/home/daniel/.local/lib/python3.10/site-packages/sklearn/neural_network/_multilayer_perceptron.py:690: ConvergenceWarning: Stochastic Optimizer: Maximum iterations (150) reached and the optimization hasn't converged yet.\n",
      "  warnings.warn(\n",
      "/home/daniel/.local/lib/python3.10/site-packages/sklearn/neural_network/_multilayer_perceptron.py:690: ConvergenceWarning: Stochastic Optimizer: Maximum iterations (150) reached and the optimization hasn't converged yet.\n",
      "  warnings.warn(\n"
     ]
    },
    {
     "name": "stdout",
     "output_type": "stream",
     "text": [
      "Parameters: {'activation': 'identity', 'batch_size': 100, 'hidden_layer_sizes': (5, 10, 5), 'max_iter': 150, 'learning_rate_init': 0.001}, Accuracy: 0.4916666666666667\n",
      "Parameters: {'activation': 'identity', 'batch_size': 100, 'hidden_layer_sizes': (5, 10, 5), 'max_iter': 150, 'learning_rate_init': 0.01}, Accuracy: 0.52\n",
      "Parameters: {'activation': 'identity', 'batch_size': 100, 'hidden_layer_sizes': (5, 10, 5), 'max_iter': 150, 'learning_rate_init': 0.1}, Accuracy: 0.6225\n"
     ]
    },
    {
     "name": "stderr",
     "output_type": "stream",
     "text": [
      "/home/daniel/.local/lib/python3.10/site-packages/sklearn/neural_network/_multilayer_perceptron.py:690: ConvergenceWarning: Stochastic Optimizer: Maximum iterations (200) reached and the optimization hasn't converged yet.\n",
      "  warnings.warn(\n",
      "/home/daniel/.local/lib/python3.10/site-packages/sklearn/neural_network/_multilayer_perceptron.py:690: ConvergenceWarning: Stochastic Optimizer: Maximum iterations (200) reached and the optimization hasn't converged yet.\n",
      "  warnings.warn(\n",
      "/home/daniel/.local/lib/python3.10/site-packages/sklearn/neural_network/_multilayer_perceptron.py:690: ConvergenceWarning: Stochastic Optimizer: Maximum iterations (200) reached and the optimization hasn't converged yet.\n",
      "  warnings.warn(\n",
      "/home/daniel/.local/lib/python3.10/site-packages/sklearn/neural_network/_multilayer_perceptron.py:690: ConvergenceWarning: Stochastic Optimizer: Maximum iterations (200) reached and the optimization hasn't converged yet.\n",
      "  warnings.warn(\n"
     ]
    },
    {
     "name": "stdout",
     "output_type": "stream",
     "text": [
      "Parameters: {'activation': 'identity', 'batch_size': 100, 'hidden_layer_sizes': (5, 10, 5), 'max_iter': 200, 'learning_rate_init': 0.001}, Accuracy: 0.5724999999999999\n",
      "Parameters: {'activation': 'identity', 'batch_size': 100, 'hidden_layer_sizes': (5, 10, 5), 'max_iter': 200, 'learning_rate_init': 0.01}, Accuracy: 0.5708333333333333\n",
      "Parameters: {'activation': 'identity', 'batch_size': 100, 'hidden_layer_sizes': (5, 10, 5), 'max_iter': 200, 'learning_rate_init': 0.1}, Accuracy: 0.5700000000000001\n"
     ]
    },
    {
     "name": "stderr",
     "output_type": "stream",
     "text": [
      "/home/daniel/.local/lib/python3.10/site-packages/sklearn/neural_network/_multilayer_perceptron.py:690: ConvergenceWarning: Stochastic Optimizer: Maximum iterations (100) reached and the optimization hasn't converged yet.\n",
      "  warnings.warn(\n",
      "/home/daniel/.local/lib/python3.10/site-packages/sklearn/neural_network/_multilayer_perceptron.py:690: ConvergenceWarning: Stochastic Optimizer: Maximum iterations (100) reached and the optimization hasn't converged yet.\n",
      "  warnings.warn(\n"
     ]
    }
   ],
   "source": [
    "from data.dataset_handler import DatasetHandler\n",
    "\n",
    "handler = DatasetHandler()\n",
    "\n",
    "df = handler.ler_dataset(\"data/treino_sinais_vitais_com_label.csv\")\n",
    "df = handler.remover_colunas(df, [\"s1\",\"s2\", \"gravidade\", \"vitima\"])\n",
    "X,y = handler.extrair_features_target(df,\"classe\")\n",
    "\n",
    "from neural_network.neural_network import NeuralNetwork\n",
    "from neural_network import neural_network\n",
    "\n",
    "#Defining hyperparameters\n",
    "param_grid = {\n",
    "    'activation': ['identity', 'logistic', 'tanh', 'relu'],\n",
    "    'batch_size': [100, 150], #int\n",
    "    'hidden_layer_sizes': [(10, 20, 10,), (5,10,5,)], \n",
    "    'max_iter': [1000 ,1500, 2000], #num epocas\n",
    "    'learning_rate_init': [0.001, 0.01, 0.1] \n",
    "              }\n",
    "\n",
    "#Initialization of the model\n",
    "neunet = NeuralNetwork()\n",
    "\n",
    "#Cross validation to find the best hyperparameters\n",
    "neural_network.crossvalidation(X, y, neunet, 5, param_grid, seed=12)"
   ]
  }
 ],
 "metadata": {
  "kernelspec": {
   "display_name": "Python 3",
   "language": "python",
   "name": "python3"
  },
  "language_info": {
   "codemirror_mode": {
    "name": "ipython",
    "version": 3
   },
   "file_extension": ".py",
   "mimetype": "text/x-python",
   "name": "python",
   "nbconvert_exporter": "python",
   "pygments_lexer": "ipython3",
   "version": "3.10.12"
  }
 },
 "nbformat": 4,
 "nbformat_minor": 2
}
